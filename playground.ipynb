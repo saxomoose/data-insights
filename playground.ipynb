{
 "cells": [
  {
   "cell_type": "markdown",
   "metadata": {},
   "source": [
    "# Adresregister\n",
    "\n",
    "api.basisregisters.vlaanderen.be/v2/adresmatch?gemeentenaam=Gent&postcode=9000&straatnaam=Koningin%20Maria%20Hendrikaplein&huisnummer=70\n",
    "\n",
    "api.basisregisters.vlaanderen.be/v2/straatnamen/134689\n",
    "\n",
    "api.basisregisters.vlaanderen.be/v2/adressen/3706808\n",
    "\n",
    "api.basisregisters.vlaanderen.be/v2/gemeenten/44021"
   ]
  },
  {
   "cell_type": "code",
   "execution_count": null,
   "metadata": {},
   "outputs": [],
   "source": [
    "headers = {\n",
    "    \"Cache-Control\": \"no-cache\"\n",
    "}"
   ]
  },
  {
   "cell_type": "code",
   "execution_count": null,
   "metadata": {},
   "outputs": [],
   "source": [
    "import json\n",
    "import requests\n",
    "\n",
    "municipality_name = \"Gent\"\n",
    "postal_code = 9000\n",
    "street_name = \"Koningin Maria Hendrikaplein\"\n",
    "house_number = 70 \n",
    "\n",
    "response = requests.get(url=f\"https://api.basisregisters.vlaanderen.be/v2/adresmatch?gemeentenaam={municipality_name}&postcode={postal_code}&straatnaam={street_name}&huisnummer={house_number}\", headers=headers)\n",
    "\n",
    "response.raise_for_status()\n",
    "\n",
    "payload = json.dumps(response.json(), indent=2)\n",
    "print(payload)"
   ]
  },
  {
   "cell_type": "markdown",
   "metadata": {},
   "source": [
    "# Capakey REST Service / Percelen\n",
    "\n",
    "doc\n",
    "https://geo.api.vlaanderen.be/capakey/v2/Help\n",
    "\n",
    "Cadastral parcels\n",
    "\n",
    "https://geo.api.vlaanderen.be/capakey/v2/parcel/24483E0012/00B003\n",
    "\n"
   ]
  },
  {
   "cell_type": "code",
   "execution_count": null,
   "metadata": {},
   "outputs": [],
   "source": [
    "response = requests.get(\"https://geo.api.vlaanderen.be/capakey/v2/parcel/24483E0012/00B003\", headers=headers)\n",
    "\n",
    "payload = json.dumps(response.json(), indent=2)\n",
    "\n",
    "print(payload)"
   ]
  },
  {
   "cell_type": "markdown",
   "metadata": {},
   "source": [
    "# Geolocation API\n",
    "\n",
    "doc\n",
    "https://geo.api.vlaanderen.be/geolocation/Help/V4"
   ]
  },
  {
   "cell_type": "code",
   "execution_count": null,
   "metadata": {},
   "outputs": [],
   "source": [
    "query = \"Trambergstraat, 3520 Zonhoven\"\n",
    "response = requests.get(f\"https://geo.api.vlaanderen.be/geolocation/Suggestion?q={query}\", headers=headers)\n",
    "payload = json.dumps(response.json(), indent=2)\n",
    "\n",
    "print(payload)"
   ]
  },
  {
   "cell_type": "markdown",
   "metadata": {},
   "source": [
    "# IPDC / LPDC\n",
    "\n",
    "ipdc.tni-vlaanderen.be/doc/concept/159\n",
    "\n",
    "ipdc.tni-vlaanderen.be/id/instantie/966457cb-c3c4-4c71-a179-b1c33cb00cf8"
   ]
  },
  {
   "cell_type": "code",
   "execution_count": null,
   "metadata": {},
   "outputs": [],
   "source": []
  },
  {
   "cell_type": "markdown",
   "metadata": {},
   "source": [
    "# Vlaamse Codex\n",
    "\n",
    "https://codex.opendata.api.vlaanderen.be:443/api/v2/WetgevingDocument/1024690\n",
    "\n",
    "https://codex.opendata.api.vlaanderen.be/api/WetgevingArtikel/1188277\n",
    "\n",
    "https://codex.opendata.api.vlaanderen.be:443/api/WetgevingArtikel/1188277/Versies\n",
    "\n",
    "https://codex.opendata.api.vlaanderen.be/api/WetgevingArtikelVersie/1327362"
   ]
  }
 ],
 "metadata": {
  "kernelspec": {
   "display_name": ".venv",
   "language": "python",
   "name": "python3"
  },
  "language_info": {
   "codemirror_mode": {
    "name": "ipython",
    "version": 3
   },
   "file_extension": ".py",
   "mimetype": "text/x-python",
   "name": "python",
   "nbconvert_exporter": "python",
   "pygments_lexer": "ipython3",
   "version": "3.10.12"
  }
 },
 "nbformat": 4,
 "nbformat_minor": 2
}
