{
 "cells": [
  {
   "cell_type": "markdown",
   "metadata": {},
   "source": [
    "# Adresregister\n",
    "\n",
    "api.basisregisters.vlaanderen.be/v2/adresmatch?gemeentenaam=Gent&postcode=9000&straatnaam=Koningin%20Maria%20Hendrikaplein&huisnummer=70\n",
    "\n",
    "api.basisregisters.vlaanderen.be/v2/straatnamen/134689\n",
    "\n",
    "api.basisregisters.vlaanderen.be/v2/adressen/3706808\n",
    "\n",
    "api.basisregisters.vlaanderen.be/v2/gemeenten/44021"
   ]
  },
  {
   "cell_type": "code",
   "execution_count": 2,
   "metadata": {},
   "outputs": [],
   "source": [
    "headers = {\n",
    "    \"Cache-Control\": \"no-cache\"\n",
    "}"
   ]
  },
  {
   "cell_type": "code",
   "execution_count": 22,
   "metadata": {},
   "outputs": [
    {
     "name": "stdout",
     "output_type": "stream",
     "text": [
      "{\n",
      "  \"@context\": \"https://docs.basisregisters.vlaanderen.be/context/adresmatch/2023-03-13/adresmatch.jsonld\",\n",
      "  \"adresMatches\": [\n",
      "    {\n",
      "      \"@type\": \"Adres\",\n",
      "      \"identificator\": {\n",
      "        \"id\": \"https://data.vlaanderen.be/id/adres/3706808\",\n",
      "        \"naamruimte\": \"https://data.vlaanderen.be/id/adres\",\n",
      "        \"objectId\": \"3706808\",\n",
      "        \"versieId\": \"2023-11-01T15:46:20+01:00\"\n",
      "      },\n",
      "      \"detail\": \"https://api.basisregisters.vlaanderen.be/v2/adressen/3706808\",\n",
      "      \"gemeente\": {\n",
      "        \"objectId\": \"44021\",\n",
      "        \"detail\": \"https://api.basisregisters.vlaanderen.be/v2/gemeenten/44021\",\n",
      "        \"gemeentenaam\": {\n",
      "          \"geografischeNaam\": {\n",
      "            \"spelling\": \"Gent\",\n",
      "            \"taal\": \"nl\"\n",
      "          }\n",
      "        }\n",
      "      },\n",
      "      \"postinfo\": {\n",
      "        \"objectId\": \"9000\",\n",
      "        \"detail\": \"https://api.basisregisters.vlaanderen.be/v2/postinfo/9000\"\n",
      "      },\n",
      "      \"straatnaam\": {\n",
      "        \"objectId\": \"70746\",\n",
      "        \"detail\": \"https://api.basisregisters.vlaanderen.be/v2/straatnamen/70746\",\n",
      "        \"straatnaam\": {\n",
      "          \"geografischeNaam\": {\n",
      "            \"spelling\": \"Koningin Maria Hendrikaplein\",\n",
      "            \"taal\": \"nl\"\n",
      "          }\n",
      "        }\n",
      "      },\n",
      "      \"huisnummer\": \"70\",\n",
      "      \"volledigAdres\": {\n",
      "        \"geografischeNaam\": {\n",
      "          \"spelling\": \"Koningin Maria Hendrikaplein 70, 9000 Gent\",\n",
      "          \"taal\": \"nl\"\n",
      "        }\n",
      "      },\n",
      "      \"adresPositie\": {\n",
      "        \"geometrie\": {\n",
      "          \"type\": \"Point\",\n",
      "          \"gml\": \"<gml:Point srsName=\\\"https://www.opengis.net/def/crs/EPSG/0/31370\\\" xmlns:gml=\\\"http://www.opengis.net/gml/3.2\\\"><gml:pos>103664.60 192046.67</gml:pos></gml:Point>\"\n",
      "        },\n",
      "        \"positieGeometrieMethode\": \"aangeduidDoorBeheerder\",\n",
      "        \"positieSpecificatie\": \"gebouweenheid\"\n",
      "      },\n",
      "      \"adresStatus\": \"inGebruik\",\n",
      "      \"officieelToegekend\": true,\n",
      "      \"score\": 100.0,\n",
      "      \"links\": [\n",
      "        {\n",
      "          \"href\": \"https://api.basisregisters.vlaanderen.be/v2/percelen?adresobjectid=3706808\",\n",
      "          \"rel\": \"percelen\",\n",
      "          \"type\": \"GET\"\n",
      "        },\n",
      "        {\n",
      "          \"href\": \"https://api.basisregisters.vlaanderen.be/v2/gebouweenheden?adresobjectid=3706808\",\n",
      "          \"rel\": \"gebouweenheden\",\n",
      "          \"type\": \"GET\"\n",
      "        }\n",
      "      ]\n",
      "    }\n",
      "  ],\n",
      "  \"warnings\": []\n",
      "}\n"
     ]
    }
   ],
   "source": [
    "import json\n",
    "import requests\n",
    "\n",
    "municipality_name = \"Gent\"\n",
    "postal_code = 9000\n",
    "street_name = \"Koningin Maria Hendrikaplein\"\n",
    "house_number = 70 \n",
    "\n",
    "response = requests.get(url=f\"https://api.basisregisters.vlaanderen.be/v2/adresmatch?gemeentenaam={municipality_name}&postcode={postal_code}&straatnaam={street_name}&huisnummer={house_number}\", headers=headers)\n",
    "\n",
    "response.raise_for_status()\n",
    "\n",
    "payload = json.dumps(response.json(), indent=2)\n",
    "print(payload)"
   ]
  },
  {
   "cell_type": "markdown",
   "metadata": {},
   "source": [
    "# Capakey REST Service / Percelen\n",
    "\n",
    "doc\n",
    "https://geo.api.vlaanderen.be/capakey/v2/Help\n",
    "\n",
    "Cadastral parcels\n",
    "\n",
    "https://geo.api.vlaanderen.be/capakey/v2/parcel/24483E0012/00B003\n",
    "\n"
   ]
  },
  {
   "cell_type": "code",
   "execution_count": 20,
   "metadata": {},
   "outputs": [
    {
     "name": "stdout",
     "output_type": "stream",
     "text": [
      "{\n",
      "  \"municipalityCode\": \"24062\",\n",
      "  \"municipalityName\": \"Leuven\",\n",
      "  \"departmentCode\": \"24483\",\n",
      "  \"departmentName\": \"LEUVEN  9 AFD/KESSEL-LO  3 AFD/\",\n",
      "  \"sectionCode\": \"E\",\n",
      "  \"perceelnummer\": \"0012/00B003\",\n",
      "  \"capakey\": \"24483E0012/00B003\",\n",
      "  \"grondnummer\": \"12\",\n",
      "  \"exponent\": \"B\",\n",
      "  \"macht\": \"003\",\n",
      "  \"bisnummer\": \"00\",\n",
      "  \"adres\": [\n",
      "    \"Benedenplein 1-32, 3010 Leuven\",\n",
      "    \"Benedenplein 2-10, 3010 Leuven\",\n",
      "    \"Martelarenlaan 1-32, 3010 Leuven\",\n",
      "    \"Martelarenlaan 16, 3010 Leuven\",\n",
      "    \"Martelarenlaan 18, 3010 Leuven\",\n",
      "    \"Martelarenlaan 18-20, 3010 Leuven\",\n",
      "    \"Martelarenlaan 2-10, 3010 Leuven\",\n",
      "    \"Martelarenlaan 2-8, 3010 Leuven\",\n",
      "    \"Martelarenlaan 34, 3010 Leuven\",\n",
      "    \"Martelarenlaan 38-50, 3010 Leuven\",\n",
      "    \"Martelarenlaan 40, 3010 Leuven\"\n",
      "  ],\n",
      "  \"geometry\": {\n",
      "    \"boundingBox\": \"{\\\"coordinates\\\":[[[174443.4272281453,174480.85861920565],[174596.49615625292,174480.85861920565],[174596.49615625292,174844.1327954568],[174443.4272281453,174844.1327954568],[174443.4272281453,174480.85861920565]]],\\\"type\\\":\\\"Polygon\\\",\\\"crs\\\":{\\\"type\\\":\\\"link\\\",\\\"properties\\\":{\\\"href\\\":\\\"http://www.opengis.net/def/crs/EPSG/0/31370\\\"}}}\",\n",
      "    \"center\": \"{\\\"coordinates\\\":[174519.96169219911,174662.49570733123],\\\"type\\\":\\\"Point\\\",\\\"crs\\\":{\\\"type\\\":\\\"link\\\",\\\"properties\\\":{\\\"href\\\":\\\"http://www.opengis.net/def/crs/EPSG/0/31370\\\"}}}\"\n",
      "  },\n",
      "  \"result\": {\n",
      "    \"succes\": true,\n",
      "    \"startTimeStamp\": \"2024-09-04T13:07:33.2356009+00:00\",\n",
      "    \"endTimeStamp\": \"2024-09-04T13:07:33.2356009+00:00\",\n",
      "    \"elapsed\": 0\n",
      "  }\n",
      "}\n"
     ]
    }
   ],
   "source": [
    "response = requests.get(\"https://geo.api.vlaanderen.be/capakey/v2/parcel/24483E0012/00B003\", headers=headers)\n",
    "\n",
    "payload = json.dumps(response.json(), indent=2)\n",
    "\n",
    "print(payload)"
   ]
  },
  {
   "cell_type": "markdown",
   "metadata": {},
   "source": [
    "# Geolocation API\n",
    "\n",
    "doc\n",
    "https://geo.api.vlaanderen.be/geolocation/Help/V4"
   ]
  },
  {
   "cell_type": "code",
   "execution_count": 25,
   "metadata": {},
   "outputs": [
    {
     "name": "stdout",
     "output_type": "stream",
     "text": [
      "{\n",
      "  \"SuggestionResult\": [\n",
      "    \"Trambergstraat, Zonhoven\"\n",
      "  ]\n",
      "}\n"
     ]
    }
   ],
   "source": [
    "query = \"Trambergstraat, 3520 Zonhoven\"\n",
    "response = requests.get(f\"https://geo.api.vlaanderen.be/geolocation/Suggestion?q={query}\", headers=headers)\n",
    "payload = json.dumps(response.json(), indent=2)\n",
    "\n",
    "print(payload)"
   ]
  },
  {
   "cell_type": "markdown",
   "metadata": {},
   "source": [
    "# IPDC / LPDC\n",
    "\n",
    "ipdc.tni-vlaanderen.be/doc/concept/159\n",
    "\n",
    "ipdc.tni-vlaanderen.be/id/instantie/966457cb-c3c4-4c71-a179-b1c33cb00cf8"
   ]
  },
  {
   "cell_type": "code",
   "execution_count": null,
   "metadata": {},
   "outputs": [],
   "source": []
  },
  {
   "cell_type": "markdown",
   "metadata": {},
   "source": [
    "# Vlaamse Codex\n",
    "\n",
    "https://codex.opendata.api.vlaanderen.be:443/api/v2/WetgevingDocument/1024690\n",
    "\n",
    "https://codex.opendata.api.vlaanderen.be/api/WetgevingArtikel/1188277\n",
    "\n",
    "https://codex.opendata.api.vlaanderen.be:443/api/WetgevingArtikel/1188277/Versies\n",
    "\n",
    "https://codex.opendata.api.vlaanderen.be/api/WetgevingArtikelVersie/1327362"
   ]
  }
 ],
 "metadata": {
  "kernelspec": {
   "display_name": ".venv",
   "language": "python",
   "name": "python3"
  },
  "language_info": {
   "codemirror_mode": {
    "name": "ipython",
    "version": 3
   },
   "file_extension": ".py",
   "mimetype": "text/x-python",
   "name": "python",
   "nbconvert_exporter": "python",
   "pygments_lexer": "ipython3",
   "version": "3.10.12"
  }
 },
 "nbformat": 4,
 "nbformat_minor": 2
}
